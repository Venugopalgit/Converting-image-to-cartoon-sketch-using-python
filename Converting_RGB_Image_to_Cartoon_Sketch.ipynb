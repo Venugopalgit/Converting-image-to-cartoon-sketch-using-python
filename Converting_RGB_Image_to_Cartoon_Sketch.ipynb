{
 "cells": [
  {
   "cell_type": "code",
   "execution_count": 1,
   "id": "1dd0ed61",
   "metadata": {},
   "outputs": [
    {
     "name": "stdout",
     "output_type": "stream",
     "text": [
      "Requirement already satisfied: cv in ./opt/anaconda3/lib/python3.8/site-packages (1.0.0)\n",
      "Note: you may need to restart the kernel to use updated packages.\n"
     ]
    }
   ],
   "source": [
    "pip install cv # installing Computervision package"
   ]
  },
  {
   "cell_type": "code",
   "execution_count": 3,
   "id": "4213aca5",
   "metadata": {},
   "outputs": [],
   "source": [
    "import cv2 # importing cv2"
   ]
  },
  {
   "cell_type": "code",
   "execution_count": 4,
   "id": "5bef0f08",
   "metadata": {},
   "outputs": [
    {
     "name": "stdout",
     "output_type": "stream",
     "text": [
      "Requirement already satisfied: opencv-python in ./opt/anaconda3/lib/python3.8/site-packages (4.5.4.60)\n",
      "Requirement already satisfied: numpy>=1.17.3 in ./opt/anaconda3/lib/python3.8/site-packages (from opencv-python) (1.20.3)\n",
      "Note: you may need to restart the kernel to use updated packages.\n"
     ]
    }
   ],
   "source": [
    "pip install opencv-python # installing opencv-python"
   ]
  },
  {
   "cell_type": "code",
   "execution_count": 5,
   "id": "353b3822",
   "metadata": {},
   "outputs": [],
   "source": [
    "import cv2 # importing cv2"
   ]
  },
  {
   "cell_type": "code",
   "execution_count": 6,
   "id": "c8922a8b",
   "metadata": {},
   "outputs": [],
   "source": [
    "import os, numpy, PIL # importing Python Imaging Library, OS and numpy\n",
    "from PIL import Image\n",
    "import cv2\n",
    "import time"
   ]
  },
  {
   "cell_type": "code",
   "execution_count": 7,
   "id": "1f872db0",
   "metadata": {},
   "outputs": [],
   "source": [
    "import numpy as np"
   ]
  },
  {
   "cell_type": "code",
   "execution_count": 8,
   "id": "27b57541",
   "metadata": {},
   "outputs": [],
   "source": [
    "img=cv2.imread(\"/Users/venugopalmuraleedharan/Desktop/Frontpage.jpeg\") # reading image from local drive"
   ]
  },
  {
   "cell_type": "markdown",
   "id": "ff2eaeb9",
   "metadata": {},
   "source": [
    "# Create Edge Mask\n",
    "#We can detect the edge in an image by using the cv2.adaptiveThreshold() function."
   ]
  },
  {
   "cell_type": "code",
   "execution_count": 9,
   "id": "ce0eef1d",
   "metadata": {},
   "outputs": [],
   "source": [
    "# converting image from RBG to gray scale\n",
    "gray= cv2.cvtColor(img,cv2.COLOR_BGR2GRAY) \n",
    "gray= cv2.medianBlur(gray,5)\n",
    "edges=cv2.adaptiveThreshold(gray,255,cv2.ADAPTIVE_THRESH_MEAN_C,cv2.THRESH_BINARY,9,9)\n",
    "        \n",
    "        \n",
    "        "
   ]
  },
  {
   "cell_type": "markdown",
   "id": "240d8079",
   "metadata": {},
   "source": [
    "# Combine Edge Mask with the Colored Image\n"
   ]
  },
  {
   "cell_type": "code",
   "execution_count": 10,
   "id": "a9135391",
   "metadata": {},
   "outputs": [],
   "source": [
    "color=cv2.bilateralFilter(img,9,250,250)\n",
    "cartoon=cv2.bitwise_and(color,color,mask=edges)\n"
   ]
  },
  {
   "cell_type": "code",
   "execution_count": null,
   "id": "cb8f57c9",
   "metadata": {},
   "outputs": [],
   "source": [
    "cv2.imshow(\"Image\", img)\n",
    "cv2.imshow(\"edges\", edges)\n",
    "cv2.imshow(\"Cartoon\", cartoon)\n",
    "cv2.waitKey(0)\n",
    "cv2.destroyAllWindows()"
   ]
  },
  {
   "cell_type": "code",
   "execution_count": null,
   "id": "1eacf967",
   "metadata": {},
   "outputs": [],
   "source": []
  },
  {
   "cell_type": "code",
   "execution_count": null,
   "id": "ad6959a3",
   "metadata": {},
   "outputs": [],
   "source": []
  }
 ],
 "metadata": {
  "kernelspec": {
   "display_name": "Python 3 (ipykernel)",
   "language": "python",
   "name": "python3"
  },
  "language_info": {
   "codemirror_mode": {
    "name": "ipython",
    "version": 3
   },
   "file_extension": ".py",
   "mimetype": "text/x-python",
   "name": "python",
   "nbconvert_exporter": "python",
   "pygments_lexer": "ipython3",
   "version": "3.8.8"
  },
  "toc": {
   "base_numbering": 1,
   "nav_menu": {},
   "number_sections": true,
   "sideBar": true,
   "skip_h1_title": false,
   "title_cell": "Table of Contents",
   "title_sidebar": "Contents",
   "toc_cell": false,
   "toc_position": {},
   "toc_section_display": true,
   "toc_window_display": false
  },
  "varInspector": {
   "cols": {
    "lenName": 16,
    "lenType": 16,
    "lenVar": 40
   },
   "kernels_config": {
    "python": {
     "delete_cmd_postfix": "",
     "delete_cmd_prefix": "del ",
     "library": "var_list.py",
     "varRefreshCmd": "print(var_dic_list())"
    },
    "r": {
     "delete_cmd_postfix": ") ",
     "delete_cmd_prefix": "rm(",
     "library": "var_list.r",
     "varRefreshCmd": "cat(var_dic_list()) "
    }
   },
   "types_to_exclude": [
    "module",
    "function",
    "builtin_function_or_method",
    "instance",
    "_Feature"
   ],
   "window_display": false
  }
 },
 "nbformat": 4,
 "nbformat_minor": 5
}
